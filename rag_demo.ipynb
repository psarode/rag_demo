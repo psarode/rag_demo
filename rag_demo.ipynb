{
 "cells": [
  {
   "cell_type": "code",
   "execution_count": 1,
   "id": "2f7bb9b3",
   "metadata": {},
   "outputs": [
    {
     "name": "stdout",
     "output_type": "stream",
     "text": [
      "The strategic plan covers the years 2024 to 2028.\n"
     ]
    }
   ],
   "source": [
    "# Import necessary libraries\n",
    "from dotenv import load_dotenv\n",
    "from llama_index.core import VectorStoreIndex, SimpleDirectoryReader\n",
    "\n",
    "# Load environment variables\n",
    "load_dotenv()\n",
    "\n",
    "# Load documents from a directory (you can change this path as needed)\n",
    "documents = SimpleDirectoryReader(\"data\").load_data()\n",
    "\n",
    "# Create an index from the documents\n",
    "index = VectorStoreIndex.from_documents(documents)\n",
    "\n",
    "\n",
    "# Create a query engine\n",
    "#query_engine = index.as_query_engine()\n",
    "\n",
    "\n",
    "# Example query\n",
    "#response = query_engine.query(\"What years does the strategic plan cover?\")\n",
    "\n",
    "#print(response)\n",
    "\n",
    "\n",
    "#Build your own query language\n",
    "# Create a retriever to fetch relevant documents\n",
    "retriever = index.as_retriever(retrieval_mode='similarity', k=3)\n",
    "\n",
    "# Define your query\n",
    "query = \"What years does the strategic plan cover?\"\n",
    "\n",
    "# Retrieve relevant documents\n",
    "relevant_docs = retriever.retrieve(query)\n",
    "\n",
    "print(f\"Number of relevant documents: {len(relevant_docs)}\")\n",
    "print(\"\\n\" + \"=\"*50 + \"\\n\")\n",
    "\n",
    "for i, doc in enumerate(relevant_docs):\n",
    "    print(f\"Document {i+1}:\")\n",
    "    print(f\"Text sample: {doc.node.get_content()[:200]}...\")  # Print first 200 characters\n",
    "    print(f\"Metadata: {doc.node.metadata}\")\n",
    "    print(f\"Score: {doc.score}\")\n",
    "    print(\"\\n\" + \"=\"*50 + \"\\n\")"
   ]
  },
  {
   "cell_type": "code",
   "execution_count": 3,
   "id": "2c4d4191",
   "metadata": {},
   "outputs": [
    {
     "name": "stdout",
     "output_type": "stream",
     "text": [
      "This document discusses various aspects related to the strategic plan of CodePath, including its theory of change, leadership and origin story, founding principles, corporate revenue, higher education revenue, philanthropic revenue, university, corporate, and philanthropic partners, regional expansion, and finance charts.\n"
     ]
    }
   ],
   "source": [
    "# Example query\n",
    "response = query_engine.query(\"What does this document talk about?\")\n",
    "print(response)\n"
   ]
  },
  {
   "cell_type": "code",
   "execution_count": 4,
   "id": "3251ffe4",
   "metadata": {},
   "outputs": [
    {
     "name": "stdout",
     "output_type": "stream",
     "text": [
      "Engage in the chicken dance by flapping your arms like wings, bobbing your head, and taking small steps to the beat of the music. Let loose and have fun with the movements to fully enjoy the dance.\n"
     ]
    }
   ],
   "source": [
    "# Example query\n",
    "response = query_engine.query(\"How do you do the chicken dance?\")\n",
    "print(response)\n"
   ]
  },
  {
   "cell_type": "code",
   "execution_count": 5,
   "id": "754db9c1",
   "metadata": {},
   "outputs": [
    {
     "name": "stdout",
     "output_type": "stream",
     "text": [
      "Why did the computer go to the doctor? Because it had a virus!\n"
     ]
    }
   ],
   "source": [
    "# Example query\n",
    "response = query_engine.query(\"Can you tell me a really funny joke?\")\n",
    "print(response)\n"
   ]
  },
  {
   "cell_type": "code",
   "execution_count": 19,
   "id": "555f9eeb",
   "metadata": {},
   "outputs": [],
   "source": [
    "langfuse_callback_handler.flush()"
   ]
  }
 ],
 "metadata": {
  "kernelspec": {
   "display_name": ".venv",
   "language": "python",
   "name": "python3"
  },
  "language_info": {
   "codemirror_mode": {
    "name": "ipython",
    "version": 3
   },
   "file_extension": ".py",
   "mimetype": "text/x-python",
   "name": "python",
   "nbconvert_exporter": "python",
   "pygments_lexer": "ipython3",
   "version": "3.12.5"
  }
 },
 "nbformat": 4,
 "nbformat_minor": 5
}
